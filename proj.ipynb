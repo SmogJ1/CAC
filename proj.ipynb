{
 "cells": [
  {
   "cell_type": "markdown",
   "metadata": {},
   "source": [
    "## Installations and imports"
   ]
  },
  {
   "cell_type": "code",
   "execution_count": 23,
   "metadata": {},
   "outputs": [
    {
     "data": {
      "text/plain": [
       "'\\n! pip install TextBlob\\n! pip install nltk\\n! pip install transformers\\n! python -m spacy download en_core_web_sm\\n! pip uninstall scikit-learn -y\\n! pip install --no-cache-dir scikit-learn\\n'"
      ]
     },
     "execution_count": 23,
     "metadata": {},
     "output_type": "execute_result"
    }
   ],
   "source": [
    "'''\n",
    "! pip install TextBlob\n",
    "! pip install nltk\n",
    "! pip install transformers\n",
    "! python -m spacy download en_core_web_sm\n",
    "! pip uninstall scikit-learn -y\n",
    "! pip install --no-cache-dir scikit-learn\n",
    "'''"
   ]
  },
  {
   "cell_type": "code",
   "execution_count": 24,
   "metadata": {},
   "outputs": [],
   "source": [
    "import json\n",
    "import nltk\n",
    "import re\n",
    "import string\n",
    "import spacy\n",
    "import transformers\n",
    "\n",
    "import matplotlib.pyplot as plt\n",
    "import numpy as np\n",
    "import seaborn as sns\n",
    "import pandas as pd\n",
    "\n",
    "from nltk.tokenize import word_tokenize\n",
    "from nltk.corpus import stopwords\n",
    "from nltk.stem import WordNetLemmatizer\n",
    "from textblob import TextBlob\n",
    "from collections import Counter\n",
    "from transformers import pipeline\n",
    "from sklearn.metrics.pairwise import cosine_similarity"
   ]
  },
  {
   "cell_type": "code",
   "execution_count": 25,
   "metadata": {},
   "outputs": [
    {
     "name": "stderr",
     "output_type": "stream",
     "text": [
      "[nltk_data] Downloading package punkt to /home/ana/nltk_data...\n",
      "[nltk_data]   Package punkt is already up-to-date!\n",
      "[nltk_data] Downloading package stopwords to /home/ana/nltk_data...\n",
      "[nltk_data]   Package stopwords is already up-to-date!\n",
      "[nltk_data] Downloading package wordnet to /home/ana/nltk_data...\n",
      "[nltk_data]   Package wordnet is already up-to-date!\n",
      "[nltk_data] Downloading package omw-1.4 to /home/ana/nltk_data...\n",
      "[nltk_data]   Package omw-1.4 is already up-to-date!\n"
     ]
    },
    {
     "data": {
      "text/plain": [
       "True"
      ]
     },
     "execution_count": 25,
     "metadata": {},
     "output_type": "execute_result"
    }
   ],
   "source": [
    "# Baixar recursos do NLTK\n",
    "nltk.download('punkt')\n",
    "nltk.download('stopwords')\n",
    "nltk.download('wordnet')\n",
    "nltk.download('omw-1.4')\n"
   ]
  },
  {
   "cell_type": "markdown",
   "metadata": {},
   "source": [
    "## Dataset overview"
   ]
  },
  {
   "cell_type": "code",
   "execution_count": 26,
   "metadata": {},
   "outputs": [
    {
     "name": "stdout",
     "output_type": "stream",
     "text": [
      "\n",
      " Starting to load datasets...\n",
      "\n"
     ]
    }
   ],
   "source": [
    "def load_yelp_data(file_path, nrows=None):\n",
    "    data = []\n",
    "    print(f\" Loading: {file_path}...\")  \n",
    "\n",
    "    with open(file_path, \"r\", encoding=\"utf-8\") as f:\n",
    "        for i, line in enumerate(f):\n",
    "            if nrows and i >= nrows:\n",
    "                break\n",
    "            data.append(json.loads(line))\n",
    "            \n",
    "            if (i + 1) % 100000 == 0:\n",
    "                print(f\"  🔄 {i + 1} loaded lines...\")\n",
    "\n",
    "    print(f\" {file_path} loaded with {len(data)} lines!\\n\")  \n",
    "    return pd.DataFrame(data)\n",
    "\n",
    "print(\"\\n Starting to load datasets...\\n\")\n",
    "\n"
   ]
  },
  {
   "cell_type": "code",
   "execution_count": 27,
   "metadata": {},
   "outputs": [
    {
     "name": "stdout",
     "output_type": "stream",
     "text": [
      " Loading: data/yelp_academic_dataset_business.json...\n",
      "  🔄 100000 loaded lines...\n",
      " data/yelp_academic_dataset_business.json loaded with 150346 lines!\n",
      "\n"
     ]
    }
   ],
   "source": [
    "df_business = load_yelp_data(\"data/yelp_academic_dataset_business.json\")"
   ]
  },
  {
   "cell_type": "code",
   "execution_count": 28,
   "metadata": {},
   "outputs": [],
   "source": [
    "city_restaurants = df_business[\n",
    "    (df_business['city'].str.lower() == 'sparks') &\n",
    "    (df_business['categories'].str.contains('Restaurants', na=False))\n",
    "]"
   ]
  },
  {
   "cell_type": "code",
   "execution_count": 29,
   "metadata": {},
   "outputs": [
    {
     "data": {
      "text/plain": [
       "\"\\ncity_business_ids = set(city_restaurants['business_id'])\\nfiltered_reviews = []\\n\\nwith open('data/yelp_academic_dataset_review.json', 'r', encoding='utf-8') as f:\\n    for line in f:\\n        review = json.loads(line)\\n        if review['business_id'] in city_business_ids:\\n            filtered_reviews.append(review)\\n\\nrestaurant_reviews = pd.DataFrame(filtered_reviews)\\n\\nwith open('data/sparks_reviews.json', 'w', encoding='utf-8') as out_file:\\n    for review in filtered_reviews:\\n        out_file.write(json.dumps(review) + '\\n')\\n\""
      ]
     },
     "execution_count": 29,
     "metadata": {},
     "output_type": "execute_result"
    }
   ],
   "source": [
    "'''\n",
    "city_business_ids = set(city_restaurants['business_id'])\n",
    "filtered_reviews = []\n",
    "\n",
    "with open('data/yelp_academic_dataset_review.json', 'r', encoding='utf-8') as f:\n",
    "    for line in f:\n",
    "        review = json.loads(line)\n",
    "        if review['business_id'] in city_business_ids:\n",
    "            filtered_reviews.append(review)\n",
    "\n",
    "restaurant_reviews = pd.DataFrame(filtered_reviews)\n",
    "\n",
    "with open('data/sparks_reviews.json', 'w', encoding='utf-8') as out_file:\n",
    "    for review in filtered_reviews:\n",
    "        out_file.write(json.dumps(review) + '\\n')\n",
    "'''"
   ]
  },
  {
   "cell_type": "code",
   "execution_count": 30,
   "metadata": {},
   "outputs": [
    {
     "name": "stdout",
     "output_type": "stream",
     "text": [
      " Loading: data/sparks_reviews.json...\n",
      " data/sparks_reviews.json loaded with 40186 lines!\n",
      "\n"
     ]
    }
   ],
   "source": [
    "df_review = load_yelp_data(\"data/sparks_reviews.json\")"
   ]
  },
  {
   "cell_type": "code",
   "execution_count": 31,
   "metadata": {},
   "outputs": [
    {
     "data": {
      "text/plain": [
       "business_id     334\n",
       "name            334\n",
       "address         334\n",
       "city            334\n",
       "state           334\n",
       "postal_code     334\n",
       "latitude        334\n",
       "longitude       334\n",
       "stars           334\n",
       "review_count    334\n",
       "is_open         334\n",
       "attributes      331\n",
       "categories      334\n",
       "hours           295\n",
       "dtype: int64"
      ]
     },
     "execution_count": 31,
     "metadata": {},
     "output_type": "execute_result"
    }
   ],
   "source": [
    "city_restaurants.count()\n"
   ]
  },
  {
   "cell_type": "code",
   "execution_count": 32,
   "metadata": {},
   "outputs": [
    {
     "data": {
      "text/html": [
       "<div>\n",
       "<style scoped>\n",
       "    .dataframe tbody tr th:only-of-type {\n",
       "        vertical-align: middle;\n",
       "    }\n",
       "\n",
       "    .dataframe tbody tr th {\n",
       "        vertical-align: top;\n",
       "    }\n",
       "\n",
       "    .dataframe thead th {\n",
       "        text-align: right;\n",
       "    }\n",
       "</style>\n",
       "<table border=\"1\" class=\"dataframe\">\n",
       "  <thead>\n",
       "    <tr style=\"text-align: right;\">\n",
       "      <th></th>\n",
       "      <th>business_id</th>\n",
       "      <th>name</th>\n",
       "      <th>address</th>\n",
       "      <th>city</th>\n",
       "      <th>state</th>\n",
       "      <th>postal_code</th>\n",
       "      <th>latitude</th>\n",
       "      <th>longitude</th>\n",
       "      <th>stars</th>\n",
       "      <th>review_count</th>\n",
       "      <th>is_open</th>\n",
       "      <th>attributes</th>\n",
       "      <th>categories</th>\n",
       "      <th>hours</th>\n",
       "    </tr>\n",
       "  </thead>\n",
       "  <tbody>\n",
       "    <tr>\n",
       "      <th>0</th>\n",
       "      <td>Pns2l4eNsfO8kk83dixA6A</td>\n",
       "      <td>Abby Rappoport, LAC, CMQ</td>\n",
       "      <td>1616 Chapala St, Ste 2</td>\n",
       "      <td>Santa Barbara</td>\n",
       "      <td>CA</td>\n",
       "      <td>93101</td>\n",
       "      <td>34.426679</td>\n",
       "      <td>-119.711197</td>\n",
       "      <td>5.0</td>\n",
       "      <td>7</td>\n",
       "      <td>0</td>\n",
       "      <td>{'ByAppointmentOnly': 'True'}</td>\n",
       "      <td>Doctors, Traditional Chinese Medicine, Naturop...</td>\n",
       "      <td>None</td>\n",
       "    </tr>\n",
       "    <tr>\n",
       "      <th>1</th>\n",
       "      <td>mpf3x-BjTdTEA3yCZrAYPw</td>\n",
       "      <td>The UPS Store</td>\n",
       "      <td>87 Grasso Plaza Shopping Center</td>\n",
       "      <td>Affton</td>\n",
       "      <td>MO</td>\n",
       "      <td>63123</td>\n",
       "      <td>38.551126</td>\n",
       "      <td>-90.335695</td>\n",
       "      <td>3.0</td>\n",
       "      <td>15</td>\n",
       "      <td>1</td>\n",
       "      <td>{'BusinessAcceptsCreditCards': 'True'}</td>\n",
       "      <td>Shipping Centers, Local Services, Notaries, Ma...</td>\n",
       "      <td>{'Monday': '0:0-0:0', 'Tuesday': '8:0-18:30', ...</td>\n",
       "    </tr>\n",
       "    <tr>\n",
       "      <th>2</th>\n",
       "      <td>tUFrWirKiKi_TAnsVWINQQ</td>\n",
       "      <td>Target</td>\n",
       "      <td>5255 E Broadway Blvd</td>\n",
       "      <td>Tucson</td>\n",
       "      <td>AZ</td>\n",
       "      <td>85711</td>\n",
       "      <td>32.223236</td>\n",
       "      <td>-110.880452</td>\n",
       "      <td>3.5</td>\n",
       "      <td>22</td>\n",
       "      <td>0</td>\n",
       "      <td>{'BikeParking': 'True', 'BusinessAcceptsCredit...</td>\n",
       "      <td>Department Stores, Shopping, Fashion, Home &amp; G...</td>\n",
       "      <td>{'Monday': '8:0-22:0', 'Tuesday': '8:0-22:0', ...</td>\n",
       "    </tr>\n",
       "    <tr>\n",
       "      <th>3</th>\n",
       "      <td>MTSW4McQd7CbVtyjqoe9mw</td>\n",
       "      <td>St Honore Pastries</td>\n",
       "      <td>935 Race St</td>\n",
       "      <td>Philadelphia</td>\n",
       "      <td>PA</td>\n",
       "      <td>19107</td>\n",
       "      <td>39.955505</td>\n",
       "      <td>-75.155564</td>\n",
       "      <td>4.0</td>\n",
       "      <td>80</td>\n",
       "      <td>1</td>\n",
       "      <td>{'RestaurantsDelivery': 'False', 'OutdoorSeati...</td>\n",
       "      <td>Restaurants, Food, Bubble Tea, Coffee &amp; Tea, B...</td>\n",
       "      <td>{'Monday': '7:0-20:0', 'Tuesday': '7:0-20:0', ...</td>\n",
       "    </tr>\n",
       "    <tr>\n",
       "      <th>4</th>\n",
       "      <td>mWMc6_wTdE0EUBKIGXDVfA</td>\n",
       "      <td>Perkiomen Valley Brewery</td>\n",
       "      <td>101 Walnut St</td>\n",
       "      <td>Green Lane</td>\n",
       "      <td>PA</td>\n",
       "      <td>18054</td>\n",
       "      <td>40.338183</td>\n",
       "      <td>-75.471659</td>\n",
       "      <td>4.5</td>\n",
       "      <td>13</td>\n",
       "      <td>1</td>\n",
       "      <td>{'BusinessAcceptsCreditCards': 'True', 'Wheelc...</td>\n",
       "      <td>Brewpubs, Breweries, Food</td>\n",
       "      <td>{'Wednesday': '14:0-22:0', 'Thursday': '16:0-2...</td>\n",
       "    </tr>\n",
       "  </tbody>\n",
       "</table>\n",
       "</div>"
      ],
      "text/plain": [
       "              business_id                      name  \\\n",
       "0  Pns2l4eNsfO8kk83dixA6A  Abby Rappoport, LAC, CMQ   \n",
       "1  mpf3x-BjTdTEA3yCZrAYPw             The UPS Store   \n",
       "2  tUFrWirKiKi_TAnsVWINQQ                    Target   \n",
       "3  MTSW4McQd7CbVtyjqoe9mw        St Honore Pastries   \n",
       "4  mWMc6_wTdE0EUBKIGXDVfA  Perkiomen Valley Brewery   \n",
       "\n",
       "                           address           city state postal_code  \\\n",
       "0           1616 Chapala St, Ste 2  Santa Barbara    CA       93101   \n",
       "1  87 Grasso Plaza Shopping Center         Affton    MO       63123   \n",
       "2             5255 E Broadway Blvd         Tucson    AZ       85711   \n",
       "3                      935 Race St   Philadelphia    PA       19107   \n",
       "4                    101 Walnut St     Green Lane    PA       18054   \n",
       "\n",
       "    latitude   longitude  stars  review_count  is_open  \\\n",
       "0  34.426679 -119.711197    5.0             7        0   \n",
       "1  38.551126  -90.335695    3.0            15        1   \n",
       "2  32.223236 -110.880452    3.5            22        0   \n",
       "3  39.955505  -75.155564    4.0            80        1   \n",
       "4  40.338183  -75.471659    4.5            13        1   \n",
       "\n",
       "                                          attributes  \\\n",
       "0                      {'ByAppointmentOnly': 'True'}   \n",
       "1             {'BusinessAcceptsCreditCards': 'True'}   \n",
       "2  {'BikeParking': 'True', 'BusinessAcceptsCredit...   \n",
       "3  {'RestaurantsDelivery': 'False', 'OutdoorSeati...   \n",
       "4  {'BusinessAcceptsCreditCards': 'True', 'Wheelc...   \n",
       "\n",
       "                                          categories  \\\n",
       "0  Doctors, Traditional Chinese Medicine, Naturop...   \n",
       "1  Shipping Centers, Local Services, Notaries, Ma...   \n",
       "2  Department Stores, Shopping, Fashion, Home & G...   \n",
       "3  Restaurants, Food, Bubble Tea, Coffee & Tea, B...   \n",
       "4                          Brewpubs, Breweries, Food   \n",
       "\n",
       "                                               hours  \n",
       "0                                               None  \n",
       "1  {'Monday': '0:0-0:0', 'Tuesday': '8:0-18:30', ...  \n",
       "2  {'Monday': '8:0-22:0', 'Tuesday': '8:0-22:0', ...  \n",
       "3  {'Monday': '7:0-20:0', 'Tuesday': '7:0-20:0', ...  \n",
       "4  {'Wednesday': '14:0-22:0', 'Thursday': '16:0-2...  "
      ]
     },
     "execution_count": 32,
     "metadata": {},
     "output_type": "execute_result"
    }
   ],
   "source": [
    "df_business.head()"
   ]
  },
  {
   "cell_type": "code",
   "execution_count": 33,
   "metadata": {},
   "outputs": [
    {
     "data": {
      "text/plain": [
       "(150346, 14)"
      ]
     },
     "execution_count": 33,
     "metadata": {},
     "output_type": "execute_result"
    }
   ],
   "source": [
    "df_business.shape"
   ]
  },
  {
   "cell_type": "code",
   "execution_count": 34,
   "metadata": {},
   "outputs": [
    {
     "data": {
      "text/html": [
       "<div>\n",
       "<style scoped>\n",
       "    .dataframe tbody tr th:only-of-type {\n",
       "        vertical-align: middle;\n",
       "    }\n",
       "\n",
       "    .dataframe tbody tr th {\n",
       "        vertical-align: top;\n",
       "    }\n",
       "\n",
       "    .dataframe thead th {\n",
       "        text-align: right;\n",
       "    }\n",
       "</style>\n",
       "<table border=\"1\" class=\"dataframe\">\n",
       "  <thead>\n",
       "    <tr style=\"text-align: right;\">\n",
       "      <th></th>\n",
       "      <th>latitude</th>\n",
       "      <th>longitude</th>\n",
       "      <th>stars</th>\n",
       "      <th>review_count</th>\n",
       "      <th>is_open</th>\n",
       "    </tr>\n",
       "  </thead>\n",
       "  <tbody>\n",
       "    <tr>\n",
       "      <th>count</th>\n",
       "      <td>150346.000000</td>\n",
       "      <td>150346.000000</td>\n",
       "      <td>150346.000000</td>\n",
       "      <td>150346.000000</td>\n",
       "      <td>150346.00000</td>\n",
       "    </tr>\n",
       "    <tr>\n",
       "      <th>mean</th>\n",
       "      <td>36.671150</td>\n",
       "      <td>-89.357339</td>\n",
       "      <td>3.596724</td>\n",
       "      <td>44.866561</td>\n",
       "      <td>0.79615</td>\n",
       "    </tr>\n",
       "    <tr>\n",
       "      <th>std</th>\n",
       "      <td>5.872759</td>\n",
       "      <td>14.918502</td>\n",
       "      <td>0.974421</td>\n",
       "      <td>121.120136</td>\n",
       "      <td>0.40286</td>\n",
       "    </tr>\n",
       "    <tr>\n",
       "      <th>min</th>\n",
       "      <td>27.555127</td>\n",
       "      <td>-120.095137</td>\n",
       "      <td>1.000000</td>\n",
       "      <td>5.000000</td>\n",
       "      <td>0.00000</td>\n",
       "    </tr>\n",
       "    <tr>\n",
       "      <th>25%</th>\n",
       "      <td>32.187293</td>\n",
       "      <td>-90.357810</td>\n",
       "      <td>3.000000</td>\n",
       "      <td>8.000000</td>\n",
       "      <td>1.00000</td>\n",
       "    </tr>\n",
       "    <tr>\n",
       "      <th>50%</th>\n",
       "      <td>38.777413</td>\n",
       "      <td>-86.121179</td>\n",
       "      <td>3.500000</td>\n",
       "      <td>15.000000</td>\n",
       "      <td>1.00000</td>\n",
       "    </tr>\n",
       "    <tr>\n",
       "      <th>75%</th>\n",
       "      <td>39.954036</td>\n",
       "      <td>-75.421542</td>\n",
       "      <td>4.500000</td>\n",
       "      <td>37.000000</td>\n",
       "      <td>1.00000</td>\n",
       "    </tr>\n",
       "    <tr>\n",
       "      <th>max</th>\n",
       "      <td>53.679197</td>\n",
       "      <td>-73.200457</td>\n",
       "      <td>5.000000</td>\n",
       "      <td>7568.000000</td>\n",
       "      <td>1.00000</td>\n",
       "    </tr>\n",
       "  </tbody>\n",
       "</table>\n",
       "</div>"
      ],
      "text/plain": [
       "            latitude      longitude          stars   review_count  \\\n",
       "count  150346.000000  150346.000000  150346.000000  150346.000000   \n",
       "mean       36.671150     -89.357339       3.596724      44.866561   \n",
       "std         5.872759      14.918502       0.974421     121.120136   \n",
       "min        27.555127    -120.095137       1.000000       5.000000   \n",
       "25%        32.187293     -90.357810       3.000000       8.000000   \n",
       "50%        38.777413     -86.121179       3.500000      15.000000   \n",
       "75%        39.954036     -75.421542       4.500000      37.000000   \n",
       "max        53.679197     -73.200457       5.000000    7568.000000   \n",
       "\n",
       "            is_open  \n",
       "count  150346.00000  \n",
       "mean        0.79615  \n",
       "std         0.40286  \n",
       "min         0.00000  \n",
       "25%         1.00000  \n",
       "50%         1.00000  \n",
       "75%         1.00000  \n",
       "max         1.00000  "
      ]
     },
     "execution_count": 34,
     "metadata": {},
     "output_type": "execute_result"
    }
   ],
   "source": [
    "df_business.describe()"
   ]
  },
  {
   "cell_type": "code",
   "execution_count": 35,
   "metadata": {},
   "outputs": [
    {
     "data": {
      "text/html": [
       "<div>\n",
       "<style scoped>\n",
       "    .dataframe tbody tr th:only-of-type {\n",
       "        vertical-align: middle;\n",
       "    }\n",
       "\n",
       "    .dataframe tbody tr th {\n",
       "        vertical-align: top;\n",
       "    }\n",
       "\n",
       "    .dataframe thead th {\n",
       "        text-align: right;\n",
       "    }\n",
       "</style>\n",
       "<table border=\"1\" class=\"dataframe\">\n",
       "  <thead>\n",
       "    <tr style=\"text-align: right;\">\n",
       "      <th></th>\n",
       "      <th>review_id</th>\n",
       "      <th>user_id</th>\n",
       "      <th>business_id</th>\n",
       "      <th>stars</th>\n",
       "      <th>useful</th>\n",
       "      <th>funny</th>\n",
       "      <th>cool</th>\n",
       "      <th>text</th>\n",
       "      <th>date</th>\n",
       "    </tr>\n",
       "  </thead>\n",
       "  <tbody>\n",
       "    <tr>\n",
       "      <th>0</th>\n",
       "      <td>LkXdUnLG55HUqClm5C-FRQ</td>\n",
       "      <td>Bcwv94u7FgNCpCoJLmSsaA</td>\n",
       "      <td>l4aS1QVy_bGnwUXSJzpbsw</td>\n",
       "      <td>5.0</td>\n",
       "      <td>0</td>\n",
       "      <td>0</td>\n",
       "      <td>1</td>\n",
       "      <td>Best pizza ever... hands down.\\n\\nLove the pee...</td>\n",
       "      <td>2009-08-04 22:21:20</td>\n",
       "    </tr>\n",
       "    <tr>\n",
       "      <th>1</th>\n",
       "      <td>Z_tQ-hruQRU45Rg3XglyJQ</td>\n",
       "      <td>9wymgENHBBOm9Tlx7xHy7A</td>\n",
       "      <td>HZtkTPfSshfRjpQR7x1Raw</td>\n",
       "      <td>2.0</td>\n",
       "      <td>0</td>\n",
       "      <td>0</td>\n",
       "      <td>0</td>\n",
       "      <td>I didn't really like my sandwich I got here. I...</td>\n",
       "      <td>2014-03-14 23:13:32</td>\n",
       "    </tr>\n",
       "    <tr>\n",
       "      <th>2</th>\n",
       "      <td>r34W_h6NEMvBIpT2h53GQw</td>\n",
       "      <td>p0tP-O8y7rhJKd1iFirgwQ</td>\n",
       "      <td>t0XZeA0MP0P66QyLQn_NUw</td>\n",
       "      <td>5.0</td>\n",
       "      <td>0</td>\n",
       "      <td>0</td>\n",
       "      <td>0</td>\n",
       "      <td>This is a must get when you come to Reno is Ye...</td>\n",
       "      <td>2016-07-15 07:24:31</td>\n",
       "    </tr>\n",
       "    <tr>\n",
       "      <th>3</th>\n",
       "      <td>P6Kbftcn5GwvIo2xQyXFBg</td>\n",
       "      <td>fSR8LJJ0Aa3w8HoaGyXYCA</td>\n",
       "      <td>UX3eq0WsVva-cqlVrzyzFg</td>\n",
       "      <td>5.0</td>\n",
       "      <td>0</td>\n",
       "      <td>0</td>\n",
       "      <td>0</td>\n",
       "      <td>Yummy food,  they will veganize things for you...</td>\n",
       "      <td>2013-12-28 22:22:19</td>\n",
       "    </tr>\n",
       "    <tr>\n",
       "      <th>4</th>\n",
       "      <td>wXcsMgO27jDlr_8xuhn-pQ</td>\n",
       "      <td>CqRAt1eogaHCBBtF_shemg</td>\n",
       "      <td>ruFtZKwlJASx5BTk1dh5AQ</td>\n",
       "      <td>5.0</td>\n",
       "      <td>0</td>\n",
       "      <td>0</td>\n",
       "      <td>0</td>\n",
       "      <td>The new Bacon-Bleu cheeseburger is excellent! ...</td>\n",
       "      <td>2010-03-14 05:14:25</td>\n",
       "    </tr>\n",
       "  </tbody>\n",
       "</table>\n",
       "</div>"
      ],
      "text/plain": [
       "                review_id                 user_id             business_id  \\\n",
       "0  LkXdUnLG55HUqClm5C-FRQ  Bcwv94u7FgNCpCoJLmSsaA  l4aS1QVy_bGnwUXSJzpbsw   \n",
       "1  Z_tQ-hruQRU45Rg3XglyJQ  9wymgENHBBOm9Tlx7xHy7A  HZtkTPfSshfRjpQR7x1Raw   \n",
       "2  r34W_h6NEMvBIpT2h53GQw  p0tP-O8y7rhJKd1iFirgwQ  t0XZeA0MP0P66QyLQn_NUw   \n",
       "3  P6Kbftcn5GwvIo2xQyXFBg  fSR8LJJ0Aa3w8HoaGyXYCA  UX3eq0WsVva-cqlVrzyzFg   \n",
       "4  wXcsMgO27jDlr_8xuhn-pQ  CqRAt1eogaHCBBtF_shemg  ruFtZKwlJASx5BTk1dh5AQ   \n",
       "\n",
       "   stars  useful  funny  cool  \\\n",
       "0    5.0       0      0     1   \n",
       "1    2.0       0      0     0   \n",
       "2    5.0       0      0     0   \n",
       "3    5.0       0      0     0   \n",
       "4    5.0       0      0     0   \n",
       "\n",
       "                                                text                 date  \n",
       "0  Best pizza ever... hands down.\\n\\nLove the pee...  2009-08-04 22:21:20  \n",
       "1  I didn't really like my sandwich I got here. I...  2014-03-14 23:13:32  \n",
       "2  This is a must get when you come to Reno is Ye...  2016-07-15 07:24:31  \n",
       "3  Yummy food,  they will veganize things for you...  2013-12-28 22:22:19  \n",
       "4  The new Bacon-Bleu cheeseburger is excellent! ...  2010-03-14 05:14:25  "
      ]
     },
     "execution_count": 35,
     "metadata": {},
     "output_type": "execute_result"
    }
   ],
   "source": [
    "df_review.head()"
   ]
  },
  {
   "cell_type": "code",
   "execution_count": 36,
   "metadata": {},
   "outputs": [
    {
     "data": {
      "text/plain": [
       "(40186, 9)"
      ]
     },
     "execution_count": 36,
     "metadata": {},
     "output_type": "execute_result"
    }
   ],
   "source": [
    "df_review.shape"
   ]
  },
  {
   "cell_type": "code",
   "execution_count": 37,
   "metadata": {},
   "outputs": [
    {
     "data": {
      "text/html": [
       "<div>\n",
       "<style scoped>\n",
       "    .dataframe tbody tr th:only-of-type {\n",
       "        vertical-align: middle;\n",
       "    }\n",
       "\n",
       "    .dataframe tbody tr th {\n",
       "        vertical-align: top;\n",
       "    }\n",
       "\n",
       "    .dataframe thead th {\n",
       "        text-align: right;\n",
       "    }\n",
       "</style>\n",
       "<table border=\"1\" class=\"dataframe\">\n",
       "  <thead>\n",
       "    <tr style=\"text-align: right;\">\n",
       "      <th></th>\n",
       "      <th>stars</th>\n",
       "      <th>useful</th>\n",
       "      <th>funny</th>\n",
       "      <th>cool</th>\n",
       "    </tr>\n",
       "  </thead>\n",
       "  <tbody>\n",
       "    <tr>\n",
       "      <th>count</th>\n",
       "      <td>40186.000000</td>\n",
       "      <td>40186.000000</td>\n",
       "      <td>40186.000000</td>\n",
       "      <td>40186.000000</td>\n",
       "    </tr>\n",
       "    <tr>\n",
       "      <th>mean</th>\n",
       "      <td>3.594038</td>\n",
       "      <td>1.277709</td>\n",
       "      <td>0.306574</td>\n",
       "      <td>0.691086</td>\n",
       "    </tr>\n",
       "    <tr>\n",
       "      <th>std</th>\n",
       "      <td>1.542312</td>\n",
       "      <td>2.868504</td>\n",
       "      <td>1.315701</td>\n",
       "      <td>2.242514</td>\n",
       "    </tr>\n",
       "    <tr>\n",
       "      <th>min</th>\n",
       "      <td>1.000000</td>\n",
       "      <td>0.000000</td>\n",
       "      <td>0.000000</td>\n",
       "      <td>0.000000</td>\n",
       "    </tr>\n",
       "    <tr>\n",
       "      <th>25%</th>\n",
       "      <td>2.000000</td>\n",
       "      <td>0.000000</td>\n",
       "      <td>0.000000</td>\n",
       "      <td>0.000000</td>\n",
       "    </tr>\n",
       "    <tr>\n",
       "      <th>50%</th>\n",
       "      <td>4.000000</td>\n",
       "      <td>0.000000</td>\n",
       "      <td>0.000000</td>\n",
       "      <td>0.000000</td>\n",
       "    </tr>\n",
       "    <tr>\n",
       "      <th>75%</th>\n",
       "      <td>5.000000</td>\n",
       "      <td>2.000000</td>\n",
       "      <td>0.000000</td>\n",
       "      <td>1.000000</td>\n",
       "    </tr>\n",
       "    <tr>\n",
       "      <th>max</th>\n",
       "      <td>5.000000</td>\n",
       "      <td>217.000000</td>\n",
       "      <td>103.000000</td>\n",
       "      <td>201.000000</td>\n",
       "    </tr>\n",
       "  </tbody>\n",
       "</table>\n",
       "</div>"
      ],
      "text/plain": [
       "              stars        useful         funny          cool\n",
       "count  40186.000000  40186.000000  40186.000000  40186.000000\n",
       "mean       3.594038      1.277709      0.306574      0.691086\n",
       "std        1.542312      2.868504      1.315701      2.242514\n",
       "min        1.000000      0.000000      0.000000      0.000000\n",
       "25%        2.000000      0.000000      0.000000      0.000000\n",
       "50%        4.000000      0.000000      0.000000      0.000000\n",
       "75%        5.000000      2.000000      0.000000      1.000000\n",
       "max        5.000000    217.000000    103.000000    201.000000"
      ]
     },
     "execution_count": 37,
     "metadata": {},
     "output_type": "execute_result"
    }
   ],
   "source": [
    "df_review.describe()"
   ]
  },
  {
   "cell_type": "markdown",
   "metadata": {},
   "source": [
    "## Pre-processing"
   ]
  },
  {
   "cell_type": "code",
   "execution_count": 38,
   "metadata": {},
   "outputs": [],
   "source": [
    "nlp = spacy.load(\"en_core_web_sm\", disable=[\"parser\", \"ner\"])\n",
    "\n",
    "def preprocess_text(text):\n",
    "    text = text.lower().strip()  # Lowercase and remove extra spaces\n",
    "\n",
    "    # Remove special characters but keep numbers\n",
    "    text = re.sub(r'[^a-zA-Z0-9 ]', '', text)\n",
    "\n",
    "    # Tokenization, stopword removal, and lemmatization\n",
    "    doc = nlp(text)\n",
    "    tokens = [token.lemma_ for token in doc if not token.is_stop]\n",
    "\n",
    "    return \" \".join(tokens)\n"
   ]
  },
  {
   "cell_type": "code",
   "execution_count": 39,
   "metadata": {},
   "outputs": [
    {
     "name": "stdout",
     "output_type": "stream",
     "text": [
      " pre-processin finished!\n"
     ]
    }
   ],
   "source": [
    "df_review[\"clean_text\"] = df_review[\"text\"].apply(preprocess_text)\n",
    "print(\" pre-processin finished!\")\n"
   ]
  },
  {
   "cell_type": "code",
   "execution_count": 40,
   "metadata": {},
   "outputs": [
    {
     "data": {
      "text/html": [
       "<div>\n",
       "<style scoped>\n",
       "    .dataframe tbody tr th:only-of-type {\n",
       "        vertical-align: middle;\n",
       "    }\n",
       "\n",
       "    .dataframe tbody tr th {\n",
       "        vertical-align: top;\n",
       "    }\n",
       "\n",
       "    .dataframe thead th {\n",
       "        text-align: right;\n",
       "    }\n",
       "</style>\n",
       "<table border=\"1\" class=\"dataframe\">\n",
       "  <thead>\n",
       "    <tr style=\"text-align: right;\">\n",
       "      <th></th>\n",
       "      <th>review_id</th>\n",
       "      <th>user_id</th>\n",
       "      <th>business_id</th>\n",
       "      <th>stars</th>\n",
       "      <th>useful</th>\n",
       "      <th>funny</th>\n",
       "      <th>cool</th>\n",
       "      <th>text</th>\n",
       "      <th>date</th>\n",
       "      <th>clean_text</th>\n",
       "    </tr>\n",
       "  </thead>\n",
       "  <tbody>\n",
       "    <tr>\n",
       "      <th>0</th>\n",
       "      <td>LkXdUnLG55HUqClm5C-FRQ</td>\n",
       "      <td>Bcwv94u7FgNCpCoJLmSsaA</td>\n",
       "      <td>l4aS1QVy_bGnwUXSJzpbsw</td>\n",
       "      <td>5.0</td>\n",
       "      <td>0</td>\n",
       "      <td>0</td>\n",
       "      <td>1</td>\n",
       "      <td>Best pizza ever... hands down.\\n\\nLove the pee...</td>\n",
       "      <td>2009-08-04 22:21:20</td>\n",
       "      <td>good pizza hand downlove peep run place   hock...</td>\n",
       "    </tr>\n",
       "    <tr>\n",
       "      <th>1</th>\n",
       "      <td>Z_tQ-hruQRU45Rg3XglyJQ</td>\n",
       "      <td>9wymgENHBBOm9Tlx7xHy7A</td>\n",
       "      <td>HZtkTPfSshfRjpQR7x1Raw</td>\n",
       "      <td>2.0</td>\n",
       "      <td>0</td>\n",
       "      <td>0</td>\n",
       "      <td>0</td>\n",
       "      <td>I didn't really like my sandwich I got here. I...</td>\n",
       "      <td>2014-03-14 23:13:32</td>\n",
       "      <td>not like sandwich get get jalapeo cheese bread...</td>\n",
       "    </tr>\n",
       "    <tr>\n",
       "      <th>2</th>\n",
       "      <td>r34W_h6NEMvBIpT2h53GQw</td>\n",
       "      <td>p0tP-O8y7rhJKd1iFirgwQ</td>\n",
       "      <td>t0XZeA0MP0P66QyLQn_NUw</td>\n",
       "      <td>5.0</td>\n",
       "      <td>0</td>\n",
       "      <td>0</td>\n",
       "      <td>0</td>\n",
       "      <td>This is a must get when you come to Reno is Ye...</td>\n",
       "      <td>2016-07-15 07:24:31</td>\n",
       "      <td>come reno yellow sub ask sprout sub will not r...</td>\n",
       "    </tr>\n",
       "    <tr>\n",
       "      <th>3</th>\n",
       "      <td>P6Kbftcn5GwvIo2xQyXFBg</td>\n",
       "      <td>fSR8LJJ0Aa3w8HoaGyXYCA</td>\n",
       "      <td>UX3eq0WsVva-cqlVrzyzFg</td>\n",
       "      <td>5.0</td>\n",
       "      <td>0</td>\n",
       "      <td>0</td>\n",
       "      <td>0</td>\n",
       "      <td>Yummy food,  they will veganize things for you...</td>\n",
       "      <td>2013-12-28 22:22:19</td>\n",
       "      <td>yummy food   veganize thing server friendly re...</td>\n",
       "    </tr>\n",
       "    <tr>\n",
       "      <th>4</th>\n",
       "      <td>wXcsMgO27jDlr_8xuhn-pQ</td>\n",
       "      <td>CqRAt1eogaHCBBtF_shemg</td>\n",
       "      <td>ruFtZKwlJASx5BTk1dh5AQ</td>\n",
       "      <td>5.0</td>\n",
       "      <td>0</td>\n",
       "      <td>0</td>\n",
       "      <td>0</td>\n",
       "      <td>The new Bacon-Bleu cheeseburger is excellent! ...</td>\n",
       "      <td>2010-03-14 05:14:25</td>\n",
       "      <td>new baconbleu cheeseburger excellent probably ...</td>\n",
       "    </tr>\n",
       "  </tbody>\n",
       "</table>\n",
       "</div>"
      ],
      "text/plain": [
       "                review_id                 user_id             business_id  \\\n",
       "0  LkXdUnLG55HUqClm5C-FRQ  Bcwv94u7FgNCpCoJLmSsaA  l4aS1QVy_bGnwUXSJzpbsw   \n",
       "1  Z_tQ-hruQRU45Rg3XglyJQ  9wymgENHBBOm9Tlx7xHy7A  HZtkTPfSshfRjpQR7x1Raw   \n",
       "2  r34W_h6NEMvBIpT2h53GQw  p0tP-O8y7rhJKd1iFirgwQ  t0XZeA0MP0P66QyLQn_NUw   \n",
       "3  P6Kbftcn5GwvIo2xQyXFBg  fSR8LJJ0Aa3w8HoaGyXYCA  UX3eq0WsVva-cqlVrzyzFg   \n",
       "4  wXcsMgO27jDlr_8xuhn-pQ  CqRAt1eogaHCBBtF_shemg  ruFtZKwlJASx5BTk1dh5AQ   \n",
       "\n",
       "   stars  useful  funny  cool  \\\n",
       "0    5.0       0      0     1   \n",
       "1    2.0       0      0     0   \n",
       "2    5.0       0      0     0   \n",
       "3    5.0       0      0     0   \n",
       "4    5.0       0      0     0   \n",
       "\n",
       "                                                text                 date  \\\n",
       "0  Best pizza ever... hands down.\\n\\nLove the pee...  2009-08-04 22:21:20   \n",
       "1  I didn't really like my sandwich I got here. I...  2014-03-14 23:13:32   \n",
       "2  This is a must get when you come to Reno is Ye...  2016-07-15 07:24:31   \n",
       "3  Yummy food,  they will veganize things for you...  2013-12-28 22:22:19   \n",
       "4  The new Bacon-Bleu cheeseburger is excellent! ...  2010-03-14 05:14:25   \n",
       "\n",
       "                                          clean_text  \n",
       "0  good pizza hand downlove peep run place   hock...  \n",
       "1  not like sandwich get get jalapeo cheese bread...  \n",
       "2  come reno yellow sub ask sprout sub will not r...  \n",
       "3  yummy food   veganize thing server friendly re...  \n",
       "4  new baconbleu cheeseburger excellent probably ...  "
      ]
     },
     "execution_count": 40,
     "metadata": {},
     "output_type": "execute_result"
    }
   ],
   "source": [
    "df_review.head()"
   ]
  },
  {
   "cell_type": "markdown",
   "metadata": {},
   "source": [
    "## Explore the Data"
   ]
  },
  {
   "cell_type": "code",
   "execution_count": 41,
   "metadata": {},
   "outputs": [
    {
     "data": {
      "image/png": "[encoded data removed]",
      "text/plain": [
       "<Figure size 640x480 with 1 Axes>"
      ]
     },
     "metadata": {},
     "output_type": "display_data"
    }
   ],
   "source": [
    "sns.histplot(df_review['stars'], bins=5)\n",
    "plt.title(\"Distribution of Review Ratings\")\n",
    "plt.show()"
   ]
  },
  {
   "cell_type": "markdown",
   "metadata": {},
   "source": [
    "## Simple User-Based Recommendation System"
   ]
  },
  {
   "cell_type": "code",
   "execution_count": null,
   "metadata": {},
   "outputs": [],
   "source": [
    "user_restaurant_matrix = df_review.pivot_table(\n",
    "    index='user_id', \n",
    "    columns='business_id', \n",
    "    values='stars'\n",
    ")\n",
    "\n",
    "user_matrix_filled = user_restaurant_matrix.fillna(0)\n",
    "user_similarity = cosine_similarity(user_matrix_filled)\n",
    "\n",
    "user_similarity_df = pd.DataFrame(\n",
    "    user_similarity, \n",
    "    index=user_restaurant_matrix.index, \n",
    "    columns=user_restaurant_matrix.index\n",
    ")\n",
    "\n",
    "def recommend_restaurants_for_user(target_user_id, top_n=5):\n",
    "    if target_user_id not in user_similarity_df:\n",
    "        return []\n",
    "\n",
    "    similar_users = user_similarity_df[target_user_id].sort_values(ascending=False)[1:11]\n",
    "    similar_users_ids = similar_users.index\n",
    "\n",
    "    target_user_rated = user_restaurant_matrix.loc[target_user_id].dropna().index\n",
    "    recommendations = user_restaurant_matrix.loc[similar_users_ids].mean().drop(target_user_rated, errors='ignore')\n",
    "    top_recommendations = recommendations.sort_values(ascending=False).head(top_n)\n",
    "\n",
    "    return city_restaurants[city_restaurants['business_id'].isin(top_recommendations.index)][['name', 'stars', 'review_count']]"
   ]
  }
 ],
 "metadata": {
  "kernelspec": {
   "display_name": "Python 3",
   "language": "python",
   "name": "python3"
  },
  "language_info": {
   "codemirror_mode": {
    "name": "ipython",
    "version": 3
   },
   "file_extension": ".py",
   "mimetype": "text/x-python",
   "name": "python",
   "nbconvert_exporter": "python",
   "pygments_lexer": "ipython3",
   "version": "3.10.12"
  }
 },
 "nbformat": 4,
 "nbformat_minor": 2
}
